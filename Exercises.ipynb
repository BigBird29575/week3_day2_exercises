{
 "cells": [
  {
   "cell_type": "markdown",
   "metadata": {},
   "source": [
    "#### Exercise 1 - Class Inheritance"
   ]
  },
  {
   "cell_type": "markdown",
   "metadata": {},
   "source": [
    "Create an Employee class that sets an employee's first name, last name, job title, salary, and email. The Employee class should have a class attribute for the raise amount set to 5% (1.05). Create a method that will apply the raise to an employee's salary."
   ]
  },
  {
   "cell_type": "code",
   "execution_count": 2,
   "metadata": {},
   "outputs": [],
   "source": [
    "class employee():\n",
    "    raise_amount = 1.05\n",
    "\n",
    "    def __init__(self, first_name, last_name, job_title, salary, work_email):\n",
    "        self.first_name = first_name\n",
    "        self.last_name = last_name\n",
    "        self.job_title = job_title\n",
    "        self.salary = salary\n",
    "        self.work_email = first_name + \".\" + last_name + \"@company.org\"\n",
    "\n",
    "    def add_raise(self):\n",
    "        self.salary = int(self.salary * self.raise_amount)\n",
    "\n"
   ]
  },
  {
   "cell_type": "markdown",
   "metadata": {},
   "source": [
    "Create two more classes that inherit from the Employee class. One for Sales and one for Development. Both of these classes will have the same attributes as the Employee.<br>\n",
    "- For the Sales employees, add a phone number attribute on instantiation using the super method. \n",
    "- Create a method on the Sales class that will Send a Follow Up Email. It should take in a customer name and \"send\" aka print a formatted email \"Dear *customer*, Thank you for your interest in our product. Please let me know if you have any questions. My email is *email* or my phone number is *phone number*. Thanks, *full name*\"\n",
    "- Create a method on the Development class called code that will print out \"*full name* is writing code\"."
   ]
  },
  {
   "cell_type": "code",
   "execution_count": 3,
   "metadata": {},
   "outputs": [],
   "source": [
    "class sales(employee):\n",
    "    def __init__(self, first_name, last_name, job_title, salary, phone_number, follow_up_email):\n",
    "        self.phone_number = phone_number\n",
    "        super().__init__(first_name, last_name, job_title, salary, follow_up_email)\n",
    "    \n",
    "    def follow_up_email(self, customer):\n",
    "        work_email_header = \"Follow up on your interest in our product\"\n",
    "        work_email_p = f\"Dear {customer}, Thank you for your interest in our product Please let me know if you have any questions. My email is email or my phone number is phone number. Thanks, full name\"\n",
    "\n",
    "\n",
    "class development(employee):\n",
    "    def code(self):\n",
    "        print(f\"{self.first_name} {self.last_name} is writing code.\")\n",
    "\n",
    "\n",
    "        \n",
    "\n",
    "\n"
   ]
  },
  {
   "cell_type": "markdown",
   "metadata": {},
   "source": [
    "- Create an instance of a Sales Employee with a salary of $50,000.\n",
    "- Send follow up emails to \"Mike O'Neil\" and \"Hannah Stern\"\n",
    "- Give the employee a raise and print the salary"
   ]
  },
  {
   "cell_type": "code",
   "execution_count": 4,
   "metadata": {},
   "outputs": [
    {
     "name": "stdout",
     "output_type": "stream",
     "text": [
      "52500\n"
     ]
    }
   ],
   "source": [
    "sales_employee = sales(\"Mike\", \"ONeil\", \"Sales\", 50000, 555-555-5555, \"mikeoneil@company.org\")\n",
    "\n",
    "sales_employee.follow_up_email(\"Mike O'Neil\")\n",
    "sales_employee.follow_up_email(\"Hannah Stern\")\n",
    "\n",
    "\n",
    "sales_employee.add_raise()\n",
    "\n",
    "print(sales_employee.salary)\n"
   ]
  },
  {
   "cell_type": "markdown",
   "metadata": {},
   "source": [
    "- Create an instance of a Development Employee with a salary of $100,000\n",
    "- Write some code with this employee\n",
    "- Give the employee a raise and print the salary"
   ]
  },
  {
   "cell_type": "code",
   "execution_count": 5,
   "metadata": {},
   "outputs": [
    {
     "ename": "TypeError",
     "evalue": "employee.__init__() takes 6 positional arguments but 7 were given",
     "output_type": "error",
     "traceback": [
      "\u001b[1;31m---------------------------------------------------------------------------\u001b[0m",
      "\u001b[1;31mTypeError\u001b[0m                                 Traceback (most recent call last)",
      "Cell \u001b[1;32mIn[5], line 1\u001b[0m\n\u001b[1;32m----> 1\u001b[0m development \u001b[39m=\u001b[39m development(\u001b[39m\"\u001b[39;49m\u001b[39mBobby\u001b[39;49m\u001b[39m\"\u001b[39;49m, \u001b[39m\"\u001b[39;49m\u001b[39mBouchet\u001b[39;49m\u001b[39m\"\u001b[39;49m, \u001b[39m\"\u001b[39;49m\u001b[39mDevelopment\u001b[39;49m\u001b[39m\"\u001b[39;49m, \u001b[39m100000\u001b[39;49m, \u001b[39m555\u001b[39;49m\u001b[39m-\u001b[39;49m\u001b[39m555\u001b[39;49m\u001b[39m-\u001b[39;49m\u001b[39m5556\u001b[39;49m, \u001b[39m\"\u001b[39;49m\u001b[39mbobbyb@company.org\u001b[39;49m\u001b[39m\"\u001b[39;49m)\n\u001b[0;32m      3\u001b[0m development\u001b[39m.\u001b[39mcode()\n\u001b[0;32m      5\u001b[0m development\u001b[39m.\u001b[39mapply_raise()\n",
      "\u001b[1;31mTypeError\u001b[0m: employee.__init__() takes 6 positional arguments but 7 were given"
     ]
    }
   ],
   "source": [
    "development = development(\"Bobby\", \"Bouchet\", \"Development\", 100000, 555-555-5556, \"bobbyb@company.org\")\n",
    "\n",
    "development.code()\n",
    "\n",
    "development.apply_raise()\n",
    "\n",
    "print(development.salary)"
   ]
  },
  {
   "cell_type": "markdown",
   "metadata": {},
   "source": [
    "#### Exercise 2 - Importing Modules"
   ]
  },
  {
   "cell_type": "markdown",
   "metadata": {},
   "source": [
    "In VS Code, create a module titled `geometry` and add two functions in there. One that will calculate the area of a circle given a radius. The second will find the hypotenuse of a right angle given the two sides. Import the module or the functions from the module and use it to find the answers to the below questions"
   ]
  },
  {
   "attachments": {},
   "cell_type": "markdown",
   "metadata": {},
   "source": [
    "test module block"
   ]
  },
  {
   "cell_type": "code",
   "execution_count": 12,
   "metadata": {},
   "outputs": [
    {
     "name": "stdout",
     "output_type": "stream",
     "text": [
      "Hello Sheridan, how are you today?\n",
      "None\n"
     ]
    }
   ],
   "source": [
    "from mymodule import greet\n",
    "\n",
    "print(greet(\"sheridan\"))"
   ]
  },
  {
   "cell_type": "markdown",
   "metadata": {},
   "source": [
    "What is the area of a circle with a radius of 7cm?"
   ]
  },
  {
   "cell_type": "code",
   "execution_count": 17,
   "metadata": {},
   "outputs": [],
   "source": [
    "from geometry import area_of_a_circle\n",
    "\n",
    "r = float(input (\"Input the radius of the circle : \"))"
   ]
  },
  {
   "cell_type": "markdown",
   "metadata": {},
   "source": [
    "What is the hypotenuse of a right angle with sides of 3in and 4in?"
   ]
  },
  {
   "cell_type": "code",
   "execution_count": null,
   "metadata": {},
   "outputs": [],
   "source": []
  }
 ],
 "metadata": {
  "kernelspec": {
   "display_name": "Python 3",
   "language": "python",
   "name": "python3"
  },
  "language_info": {
   "codemirror_mode": {
    "name": "ipython",
    "version": 3
   },
   "file_extension": ".py",
   "mimetype": "text/x-python",
   "name": "python",
   "nbconvert_exporter": "python",
   "pygments_lexer": "ipython3",
   "version": "3.10.11"
  }
 },
 "nbformat": 4,
 "nbformat_minor": 4
}
